{
 "cells": [
  {
   "cell_type": "markdown",
   "metadata": {},
   "source": [
    "# 13. FastAPI 教學  (class01)\n",
    "\n",
    "###### tags: `農科院`\n"
   ]
  },
  {
   "cell_type": "markdown",
   "metadata": {},
   "source": [
    "### 基本安裝\n",
    "```\n",
    "pip install fastapi\n",
    "pip install uvicorn[standard]\n",
    "```\n",
    "\n",
    "### 完整安裝\n",
    "```\n",
    "conda create -n myfastapi python==3.8\n",
    "conda activate myfastapi\n",
    "pip install fastapi\n",
    "pip install uvicorn[standard]\n",
    "pip install Jinja2 aiofiles python-multipart Pillow starlette gunicorn\n",
    "#pip install tensorflow-cpu\n",
    "#python -m ipykernel install --user --name fastapi  --display-name \"fastapi\"\n",
    "```"
   ]
  },
  {
   "cell_type": "markdown",
   "metadata": {},
   "source": [
    "### 參數設定"
   ]
  },
  {
   "cell_type": "code",
   "execution_count": 19,
   "metadata": {},
   "outputs": [],
   "source": [
    "ip = \"http://203.145.218.138\"\n",
    "port = \"8001\""
   ]
  },
  {
   "cell_type": "markdown",
   "metadata": {},
   "source": [
    "### 範例 class01a-class01e"
   ]
  },
  {
   "cell_type": "code",
   "execution_count": 20,
   "metadata": {},
   "outputs": [
    {
     "name": "stdout",
     "output_type": "stream",
     "text": [
      "http://203.145.218.138:8001\n",
      "^C\n"
     ]
    }
   ],
   "source": [
    "# 範例 class01a\n",
    "print(ip +':'+ port + '/docs')\n",
    "!conda run -n fastapi uvicorn class01a:app --reload  --host 0.0.0.0 --port $port"
   ]
  },
  {
   "cell_type": "code",
   "execution_count": 2,
   "metadata": {},
   "outputs": [
    {
     "name": "stdout",
     "output_type": "stream",
     "text": [
      "/home/ubuntu/miniconda3/bin/python\n"
     ]
    }
   ],
   "source": [
    "# 範例 class01b\n",
    "print(ip +':'+ port + '/docs')\n",
    "!conda run -n fastapi uvicorn class01b:app --reload  --host 0.0.0.0 --port $port"
   ]
  },
  {
   "cell_type": "code",
   "execution_count": null,
   "metadata": {},
   "outputs": [],
   "source": [
    "# 範例 class01c\n",
    "print(ip +':'+ port + '/docs')\n",
    "!conda run -n fastapi uvicorn class01c:app --reload  --host 0.0.0.0 --port $port"
   ]
  },
  {
   "cell_type": "code",
   "execution_count": null,
   "metadata": {},
   "outputs": [],
   "source": [
    "# 範例 class01d\n",
    "print(ip +':'+ port + '/docs')\n",
    "!conda run -n fastapi uvicorn class01d:app --reload  --host 0.0.0.0 --port $port"
   ]
  },
  {
   "cell_type": "code",
   "execution_count": 22,
   "metadata": {},
   "outputs": [
    {
     "name": "stdout",
     "output_type": "stream",
     "text": [
      "http://203.145.218.138:8001/docs\n",
      "^C\n",
      "\n",
      "CondaError: KeyboardInterrupt\n",
      "\n"
     ]
    }
   ],
   "source": [
    "# 範例 class01e\n",
    "print(ip +':'+ port + '/docs')\n",
    "!conda run -n fastapi uvicorn class01e:app --reload  --host 0.0.0.0 --port $port"
   ]
  },
  {
   "cell_type": "markdown",
   "metadata": {},
   "source": [
    "### 範例 class02"
   ]
  },
  {
   "cell_type": "code",
   "execution_count": null,
   "metadata": {},
   "outputs": [
    {
     "name": "stdout",
     "output_type": "stream",
     "text": [
      "http://203.145.218.138:8001/docs\n",
      "^C\n"
     ]
    }
   ],
   "source": [
    "# 範例 class02\n",
    "print(ip +':'+ port + '/docs')\n",
    "!conda run -n fastapi uvicorn class02:app --reload  --host 0.0.0.0 --port $port"
   ]
  },
  {
   "cell_type": "code",
   "execution_count": null,
   "metadata": {},
   "outputs": [],
   "source": []
  }
 ],
 "metadata": {
  "kernelspec": {
   "display_name": "fastapi",
   "language": "python",
   "name": "fastapi"
  },
  "language_info": {
   "codemirror_mode": {
    "name": "ipython",
    "version": 3
   },
   "file_extension": ".py",
   "mimetype": "text/x-python",
   "name": "python",
   "nbconvert_exporter": "python",
   "pygments_lexer": "ipython3",
   "version": "3.8.6"
  }
 },
 "nbformat": 4,
 "nbformat_minor": 4
}
